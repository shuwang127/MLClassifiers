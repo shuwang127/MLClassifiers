{
  "nbformat": 4,
  "nbformat_minor": 0,
  "metadata": {
    "colab": {
      "name": "Predict.ipynb",
      "provenance": [],
      "mount_file_id": "https://github.com/shuwang127/MLClassifiers/blob/main/Predict.ipynb",
      "authorship_tag": "ABX9TyNk4Ag5sMbjXZiRpTDe5qZJ",
      "include_colab_link": true
    },
    "kernelspec": {
      "name": "python3",
      "display_name": "Python 3"
    }
  },
  "cells": [
    {
      "cell_type": "markdown",
      "metadata": {
        "id": "view-in-github",
        "colab_type": "text"
      },
      "source": [
        "<a href=\"https://colab.research.google.com/github/shuwang127/MLClassifiers/blob/main/Predict.ipynb\" target=\"_parent\"><img src=\"https://colab.research.google.com/assets/colab-badge.svg\" alt=\"Open In Colab\"/></a>"
      ]
    },
    {
      "cell_type": "code",
      "metadata": {
        "id": "HqbZphPKrUGf"
      },
      "source": [
        "import os\n",
        "import pandas as pd\n",
        "import numpy as np\n",
        "\n",
        "_COLAB_ = 0 if (os.getenv('COLAB_GPU', 'NONE') == 'NONE') else 1\n",
        "rootPath = './drive/My Drive/Colab Notebooks/' if (_COLAB_) else './'\n",
        "\n",
        "# read data.\n",
        "traindata = pd.read_csv(rootPath + 'training_data.csv')\n",
        "testdata = pd.read_csv(rootPath + 'testing_data.csv')\n",
        "\n",
        "# fill missing features.\n",
        "traindata = traindata.replace(' ?', np.nan)\n",
        "for index, row in traindata.iteritems():\n",
        "    traindata[index].fillna(traindata[index].mode()[0], inplace=True)\n",
        "testdata = testdata.replace(' ?', np.nan)\n",
        "for index, row in testdata.iteritems():\n",
        "    testdata[index].fillna(testdata[index].mode()[0], inplace=True)"
      ],
      "execution_count": 1,
      "outputs": []
    },
    {
      "cell_type": "code",
      "metadata": {
        "id": "FLfpuCLcs6hX",
        "colab": {
          "base_uri": "https://localhost:8080/"
        },
        "outputId": "923586dc-5abd-4219-f1b4-09f174589bb7"
      },
      "source": [
        "# get labels.\n",
        "YTrain = traindata['salary'].replace([' <=50K' , ' >50K'], [0, 1])\n",
        "\n",
        "# get features.\n",
        "XTrain = traindata.drop(['ID (this is not a feature)', 'salary'], axis=1)\n",
        "XTest = testdata.drop(['ID (this is not a feature)'], axis=1)\n",
        "# normalize numeric features.\n",
        "from sklearn.preprocessing import StandardScaler\n",
        "numcol = ['age', 'fnlwgt', 'education-num', 'capital-gain', 'capital-loss', 'hours-per-week']\n",
        "scaler = StandardScaler()\n",
        "XTrain[numcol] = scaler.fit_transform(XTrain[numcol])\n",
        "XTest[numcol] = scaler.transform(XTest[numcol])\n",
        "# get one-hot vectors.\n",
        "X = pd.concat([XTrain,XTest])\n",
        "X = pd.get_dummies(X)\n",
        "XTrain = X[:len(XTrain)]\n",
        "XTest = X[len(XTrain):]\n",
        "print(\"size of training data is\", XTrain.shape)\n",
        "print(\"size of testing data is\", XTest.shape)"
      ],
      "execution_count": 2,
      "outputs": [
        {
          "output_type": "stream",
          "text": [
            "size of training data is (38842, 105)\n",
            "size of testing data is (10000, 105)\n"
          ],
          "name": "stdout"
        }
      ]
    },
    {
      "cell_type": "code",
      "metadata": {
        "id": "ai3eDmFKtBT-",
        "colab": {
          "base_uri": "https://localhost:8080/"
        },
        "outputId": "a6162256-458f-462b-82b2-dde7b72d1060"
      },
      "source": [
        "# Random Forest.\n",
        "from sklearn.ensemble import RandomForestClassifier\n",
        "model = RandomForestClassifier(n_estimators=1000, max_depth=None, criterion='gini', max_features=None, min_samples_split=320, min_samples_leaf=4, n_jobs=-1, verbose=1, random_state=0)\n",
        "model.fit(XTrain, YTrain)\n",
        "YPred = model.predict(XTest)"
      ],
      "execution_count": 3,
      "outputs": [
        {
          "output_type": "stream",
          "text": [
            "[Parallel(n_jobs=-1)]: Using backend ThreadingBackend with 2 concurrent workers.\n",
            "[Parallel(n_jobs=-1)]: Done  46 tasks      | elapsed:   10.1s\n",
            "[Parallel(n_jobs=-1)]: Done 196 tasks      | elapsed:   43.0s\n",
            "[Parallel(n_jobs=-1)]: Done 446 tasks      | elapsed:  1.6min\n",
            "[Parallel(n_jobs=-1)]: Done 796 tasks      | elapsed:  2.9min\n",
            "[Parallel(n_jobs=-1)]: Done 1000 out of 1000 | elapsed:  3.7min finished\n",
            "[Parallel(n_jobs=2)]: Using backend ThreadingBackend with 2 concurrent workers.\n",
            "[Parallel(n_jobs=2)]: Done  46 tasks      | elapsed:    0.1s\n",
            "[Parallel(n_jobs=2)]: Done 196 tasks      | elapsed:    0.2s\n",
            "[Parallel(n_jobs=2)]: Done 446 tasks      | elapsed:    0.5s\n",
            "[Parallel(n_jobs=2)]: Done 796 tasks      | elapsed:    0.9s\n",
            "[Parallel(n_jobs=2)]: Done 1000 out of 1000 | elapsed:    1.1s finished\n"
          ],
          "name": "stderr"
        }
      ]
    },
    {
      "cell_type": "code",
      "metadata": {
        "id": "mUsFvY1WtD1G",
        "colab": {
          "base_uri": "https://localhost:8080/",
          "height": 204
        },
        "outputId": "3c187676-9495-4feb-b2cc-e196fbe321d9"
      },
      "source": [
        "testdata['salary'] = YPred\n",
        "testdata['salary'] = testdata['salary'].replace([0, 1], [' <=50K' , ' >50K'])\n",
        "result = testdata[['ID (this is not a feature)', 'salary']]\n",
        "result.to_csv(rootPath + 'result.csv', index=0)\n",
        "result.head()"
      ],
      "execution_count": 4,
      "outputs": [
        {
          "output_type": "execute_result",
          "data": {
            "text/html": [
              "<div>\n",
              "<style scoped>\n",
              "    .dataframe tbody tr th:only-of-type {\n",
              "        vertical-align: middle;\n",
              "    }\n",
              "\n",
              "    .dataframe tbody tr th {\n",
              "        vertical-align: top;\n",
              "    }\n",
              "\n",
              "    .dataframe thead th {\n",
              "        text-align: right;\n",
              "    }\n",
              "</style>\n",
              "<table border=\"1\" class=\"dataframe\">\n",
              "  <thead>\n",
              "    <tr style=\"text-align: right;\">\n",
              "      <th></th>\n",
              "      <th>ID (this is not a feature)</th>\n",
              "      <th>salary</th>\n",
              "    </tr>\n",
              "  </thead>\n",
              "  <tbody>\n",
              "    <tr>\n",
              "      <th>0</th>\n",
              "      <td>1</td>\n",
              "      <td>&lt;=50K</td>\n",
              "    </tr>\n",
              "    <tr>\n",
              "      <th>1</th>\n",
              "      <td>2</td>\n",
              "      <td>&lt;=50K</td>\n",
              "    </tr>\n",
              "    <tr>\n",
              "      <th>2</th>\n",
              "      <td>3</td>\n",
              "      <td>&gt;50K</td>\n",
              "    </tr>\n",
              "    <tr>\n",
              "      <th>3</th>\n",
              "      <td>4</td>\n",
              "      <td>&lt;=50K</td>\n",
              "    </tr>\n",
              "    <tr>\n",
              "      <th>4</th>\n",
              "      <td>5</td>\n",
              "      <td>&lt;=50K</td>\n",
              "    </tr>\n",
              "  </tbody>\n",
              "</table>\n",
              "</div>"
            ],
            "text/plain": [
              "   ID (this is not a feature)  salary\n",
              "0                           1   <=50K\n",
              "1                           2   <=50K\n",
              "2                           3    >50K\n",
              "3                           4   <=50K\n",
              "4                           5   <=50K"
            ]
          },
          "metadata": {
            "tags": []
          },
          "execution_count": 4
        }
      ]
    }
  ]
}