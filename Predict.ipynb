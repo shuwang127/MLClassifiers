{
  "nbformat": 4,
  "nbformat_minor": 0,
  "metadata": {
    "colab": {
      "name": "Predict.ipynb",
      "provenance": [],
      "mount_file_id": "15LFat_y7_kLDWKPVCkaFSzfZzcndaV_r",
      "authorship_tag": "ABX9TyOG8lRwu4gIoziHjtwmKJPF",
      "include_colab_link": true
    },
    "kernelspec": {
      "name": "python3",
      "display_name": "Python 3"
    }
  },
  "cells": [
    {
      "cell_type": "markdown",
      "metadata": {
        "id": "view-in-github",
        "colab_type": "text"
      },
      "source": [
        "<a href=\"https://colab.research.google.com/github/shuwang127/636Project/blob/main/Predict.ipynb\" target=\"_parent\"><img src=\"https://colab.research.google.com/assets/colab-badge.svg\" alt=\"Open In Colab\"/></a>"
      ]
    },
    {
      "cell_type": "code",
      "metadata": {
        "id": "HqbZphPKrUGf"
      },
      "source": [
        "import os\n",
        "import pandas as pd\n",
        "import numpy as np\n",
        "\n",
        "_COLAB_ = 0 if (os.getenv('COLAB_GPU', 'NONE') == 'NONE') else 1\n",
        "rootPath = './drive/My Drive/Colab Notebooks/' if (_COLAB_) else './'\n",
        "\n",
        "# read data.\n",
        "traindata = pd.read_csv(rootPath + 'training_data.csv')\n",
        "testdata = pd.read_csv(rootPath + 'testing_data.csv')\n",
        "\n",
        "# fill missing features.\n",
        "traindata = traindata.replace(' ?', np.nan)\n",
        "for index, row in traindata.iteritems():\n",
        "    traindata[index].fillna(traindata[index].mode()[0], inplace=True)\n",
        "testdata = testdata.replace(' ?', np.nan)\n",
        "for index, row in testdata.iteritems():\n",
        "    testdata[index].fillna(testdata[index].mode()[0], inplace=True)"
      ],
      "execution_count": 1,
      "outputs": []
    },
    {
      "cell_type": "code",
      "metadata": {
        "id": "FLfpuCLcs6hX",
        "outputId": "f573ac29-02f6-4875-bff9-2c0cb5b3e861",
        "colab": {
          "base_uri": "https://localhost:8080/"
        }
      },
      "source": [
        "# get labels.\n",
        "YTrain = traindata['salary'].replace([' <=50K' , ' >50K'], [0, 1])\n",
        "\n",
        "# get features.\n",
        "XTrain = traindata.drop(['ID (this is not a feature)', 'salary'], axis=1)\n",
        "XTest = testdata.drop(['ID (this is not a feature)'], axis=1)\n",
        "# normalize numeric features.\n",
        "from sklearn.preprocessing import StandardScaler\n",
        "numcol = ['age', 'fnlwgt', 'education-num', 'capital-gain', 'capital-loss', 'hours-per-week']\n",
        "scaler = StandardScaler()\n",
        "XTrain[numcol] = scaler.fit_transform(XTrain[numcol])\n",
        "XTest[numcol] = scaler.transform(XTest[numcol])\n",
        "# get one-hot vectors.\n",
        "X = pd.concat([XTrain,XTest])\n",
        "X = pd.get_dummies(X)\n",
        "XTrain = X[:len(XTrain)]\n",
        "XTest = X[len(XTrain):]\n",
        "print(\"size of training data is\", XTrain.shape)\n",
        "print(\"size of testing data is\", XTest.shape)"
      ],
      "execution_count": 2,
      "outputs": [
        {
          "output_type": "stream",
          "text": [
            "size of training data is (38842, 105)\n",
            "size of testing data is (10000, 105)\n"
          ],
          "name": "stdout"
        }
      ]
    },
    {
      "cell_type": "code",
      "metadata": {
        "id": "ai3eDmFKtBT-",
        "outputId": "000b3285-f4ec-4b2e-87df-7da220d6bbff",
        "colab": {
          "base_uri": "https://localhost:8080/"
        }
      },
      "source": [
        "# Neural Network.\n",
        "from sklearn.neural_network import MLPClassifier\n",
        "model = MLPClassifier(hidden_layer_sizes=(32,8), activation='logistic', solver='lbfgs', max_iter=100)\n",
        "model.fit(XTrain, YTrain)\n",
        "YPred = model.predict(XTest)"
      ],
      "execution_count": 3,
      "outputs": [
        {
          "output_type": "stream",
          "text": [
            "/usr/local/lib/python3.6/dist-packages/sklearn/neural_network/_multilayer_perceptron.py:470: ConvergenceWarning: lbfgs failed to converge (status=1):\n",
            "STOP: TOTAL NO. of ITERATIONS REACHED LIMIT.\n",
            "\n",
            "Increase the number of iterations (max_iter) or scale the data as shown in:\n",
            "    https://scikit-learn.org/stable/modules/preprocessing.html\n",
            "  self.n_iter_ = _check_optimize_result(\"lbfgs\", opt_res, self.max_iter)\n"
          ],
          "name": "stderr"
        }
      ]
    },
    {
      "cell_type": "code",
      "metadata": {
        "id": "mUsFvY1WtD1G",
        "outputId": "66b51eb1-4341-4539-f033-88d0566f2281",
        "colab": {
          "base_uri": "https://localhost:8080/",
          "height": 204
        }
      },
      "source": [
        "testdata['pred-salary'] = YPred\n",
        "testdata['pred-salary'] = testdata['pred-salary'].replace([0, 1], [' <=50K' , ' >50K'])\n",
        "result = testdata[['ID (this is not a feature)', 'pred-salary']]\n",
        "result.to_csv(rootPath + 'result.csv', index=0)\n",
        "result.head()"
      ],
      "execution_count": 4,
      "outputs": [
        {
          "output_type": "execute_result",
          "data": {
            "text/html": [
              "<div>\n",
              "<style scoped>\n",
              "    .dataframe tbody tr th:only-of-type {\n",
              "        vertical-align: middle;\n",
              "    }\n",
              "\n",
              "    .dataframe tbody tr th {\n",
              "        vertical-align: top;\n",
              "    }\n",
              "\n",
              "    .dataframe thead th {\n",
              "        text-align: right;\n",
              "    }\n",
              "</style>\n",
              "<table border=\"1\" class=\"dataframe\">\n",
              "  <thead>\n",
              "    <tr style=\"text-align: right;\">\n",
              "      <th></th>\n",
              "      <th>ID (this is not a feature)</th>\n",
              "      <th>pred-salary</th>\n",
              "    </tr>\n",
              "  </thead>\n",
              "  <tbody>\n",
              "    <tr>\n",
              "      <th>0</th>\n",
              "      <td>1</td>\n",
              "      <td>&lt;=50K</td>\n",
              "    </tr>\n",
              "    <tr>\n",
              "      <th>1</th>\n",
              "      <td>2</td>\n",
              "      <td>&lt;=50K</td>\n",
              "    </tr>\n",
              "    <tr>\n",
              "      <th>2</th>\n",
              "      <td>3</td>\n",
              "      <td>&gt;50K</td>\n",
              "    </tr>\n",
              "    <tr>\n",
              "      <th>3</th>\n",
              "      <td>4</td>\n",
              "      <td>&lt;=50K</td>\n",
              "    </tr>\n",
              "    <tr>\n",
              "      <th>4</th>\n",
              "      <td>5</td>\n",
              "      <td>&lt;=50K</td>\n",
              "    </tr>\n",
              "  </tbody>\n",
              "</table>\n",
              "</div>"
            ],
            "text/plain": [
              "   ID (this is not a feature) pred-salary\n",
              "0                           1       <=50K\n",
              "1                           2       <=50K\n",
              "2                           3        >50K\n",
              "3                           4       <=50K\n",
              "4                           5       <=50K"
            ]
          },
          "metadata": {
            "tags": []
          },
          "execution_count": 4
        }
      ]
    }
  ]
}