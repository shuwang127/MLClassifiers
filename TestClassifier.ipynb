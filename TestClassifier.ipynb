{
  "nbformat": 4,
  "nbformat_minor": 0,
  "metadata": {
    "colab": {
      "name": "TestClassifier.ipynb",
      "provenance": [],
      "mount_file_id": "1uOq6Beie7JuS-3850QNsX0jarJJAPX8R",
      "authorship_tag": "ABX9TyNVi2MwrvFALdd/N53lUjVl",
      "include_colab_link": true
    },
    "kernelspec": {
      "name": "python3",
      "display_name": "Python 3"
    }
  },
  "cells": [
    {
      "cell_type": "markdown",
      "metadata": {
        "id": "view-in-github",
        "colab_type": "text"
      },
      "source": [
        "<a href=\"https://colab.research.google.com/github/shuwang127/636Project/blob/main/TestClassifier.ipynb\" target=\"_parent\"><img src=\"https://colab.research.google.com/assets/colab-badge.svg\" alt=\"Open In Colab\"/></a>"
      ]
    },
    {
      "cell_type": "code",
      "metadata": {
        "id": "3dmU8TttXpjN"
      },
      "source": [
        "import os\n",
        "import pandas as pd\n",
        "import numpy as np\n",
        "\n",
        "_COLAB_ = 0 if (os.getenv('COLAB_GPU', 'NONE') == 'NONE') else 1\n",
        "rootPath = './drive/My Drive/Colab Notebooks/' if (_COLAB_) else './'\n",
        "\n",
        "# read data.\n",
        "traindata = pd.read_csv(rootPath + 'training_data.csv')\n",
        "testdata = pd.read_csv(rootPath + 'testing_data_labels.csv')\n",
        "# fill missing features.\n",
        "traindata = traindata.replace(' ?', np.nan)\n",
        "for index, row in traindata.iteritems():\n",
        "    traindata[index].fillna(traindata[index].mode()[0], inplace=True)\n",
        "testdata = testdata.replace(' ?', np.nan)\n",
        "for index, row in testdata.iteritems():\n",
        "    testdata[index].fillna(testdata[index].mode()[0], inplace=True)"
      ],
      "execution_count": 1,
      "outputs": []
    },
    {
      "cell_type": "code",
      "metadata": {
        "id": "anFIannGbwlg",
        "outputId": "2948e286-97d7-4927-9789-51d6873112ef",
        "colab": {
          "base_uri": "https://localhost:8080/"
        }
      },
      "source": [
        "# get labels.\n",
        "YTrain = traindata['salary'].replace([' <=50K' , ' >50K'], [0, 1])\n",
        "YTest = testdata['salary'].replace([' <=50K' , ' >50K'], [0, 1]) ##\n",
        "\n",
        "# get features.\n",
        "XTrain = traindata.drop(['ID (this is not a feature)', 'salary'], axis=1)\n",
        "XTest = testdata.drop(['ID (this is not a feature)', 'salary'], axis=1) ##\n",
        "# normalize numeric features.\n",
        "from sklearn.preprocessing import StandardScaler\n",
        "numcol = ['age', 'fnlwgt', 'education-num', 'capital-gain', 'capital-loss', 'hours-per-week']\n",
        "scaler = StandardScaler()\n",
        "XTrain[numcol] = scaler.fit_transform(XTrain[numcol])\n",
        "XTest[numcol] = scaler.transform(XTest[numcol])\n",
        "# get one-hot vectors.\n",
        "X = pd.concat([XTrain,XTest])\n",
        "X = pd.get_dummies(X)\n",
        "XTrain = X[:len(XTrain)]\n",
        "XTest = X[len(XTrain):]\n",
        "print(\"size of training data is\", XTrain.shape)\n",
        "print(\"size of testing data is\", XTest.shape)"
      ],
      "execution_count": 2,
      "outputs": [
        {
          "output_type": "stream",
          "text": [
            "size of training data is (38842, 105)\n",
            "size of testing data is (10000, 105)\n"
          ],
          "name": "stdout"
        }
      ]
    },
    {
      "cell_type": "code",
      "metadata": {
        "id": "Pz4kue9WhI1s"
      },
      "source": [
        "# evaluation.\n",
        "from sklearn.metrics import accuracy_score, confusion_matrix\n",
        "def Evaluation(YTest, YPred, method=''):\n",
        "    print('====================== ' + method + ' ======================')\n",
        "    acc = accuracy_score(YTest, YPred) * 100\n",
        "    print('Accuracy is %.3f%%.' % acc)\n",
        "    conf = confusion_matrix(YTest, YPred)\n",
        "    print(pd.DataFrame(conf, columns=['Pred-Neg','Pred-Pos'], index=['Actl-Neg', 'Actl-Pos']))\n",
        "    precision = conf[1][1] / (conf[0][1] + conf[1][1]) if (conf[0][1] + conf[1][1]) else 0\n",
        "    recall = conf[1][1] / (conf[1][0] + conf[1][1]) if (conf[1][0] + conf[1][1]) else 0\n",
        "    F1 = 2 * precision * recall / (precision + recall) if (precision + recall) else 0\n",
        "    print('Precision is %.3f.' % precision)\n",
        "    print('Recall is %.3f.' % recall)\n",
        "    print('F1 score is %.3f.' % F1)"
      ],
      "execution_count": 3,
      "outputs": []
    },
    {
      "cell_type": "code",
      "metadata": {
        "id": "59n585q2chiA",
        "outputId": "fb343849-80cf-4af9-fda7-4013b5fda5d1",
        "colab": {
          "base_uri": "https://localhost:8080/"
        }
      },
      "source": [
        "# Neural Network.\n",
        "from sklearn.neural_network import MLPClassifier\n",
        "model = MLPClassifier(hidden_layer_sizes=(32,8), activation='logistic', solver='lbfgs', max_iter=100)\n",
        "model.fit(XTrain, YTrain)\n",
        "YPred = model.predict(XTest)\n",
        "Evaluation(YTest, YPred, 'Neural Network') ##"
      ],
      "execution_count": 4,
      "outputs": [
        {
          "output_type": "stream",
          "text": [
            "====================== Neural Network ======================\n",
            "Accuracy is 86.100%.\n",
            "          Pred-Neg  Pred-Pos\n",
            "Actl-Neg      7124       515\n",
            "Actl-Pos       875      1486\n",
            "Precision is 0.743.\n",
            "Recall is 0.629.\n",
            "F1 score is 0.681.\n"
          ],
          "name": "stdout"
        },
        {
          "output_type": "stream",
          "text": [
            "/usr/local/lib/python3.6/dist-packages/sklearn/neural_network/_multilayer_perceptron.py:470: ConvergenceWarning: lbfgs failed to converge (status=1):\n",
            "STOP: TOTAL NO. of ITERATIONS REACHED LIMIT.\n",
            "\n",
            "Increase the number of iterations (max_iter) or scale the data as shown in:\n",
            "    https://scikit-learn.org/stable/modules/preprocessing.html\n",
            "  self.n_iter_ = _check_optimize_result(\"lbfgs\", opt_res, self.max_iter)\n"
          ],
          "name": "stderr"
        }
      ]
    },
    {
      "cell_type": "code",
      "metadata": {
        "id": "onPiPvymhafy",
        "outputId": "f408bdcb-ebeb-43ea-e540-a43e930bd5c3",
        "colab": {
          "base_uri": "https://localhost:8080/",
          "height": 204
        }
      },
      "source": [
        "testdata['pred-salary'] = YPred\n",
        "testdata['pred-salary'] = testdata['pred-salary'].replace([0, 1], [' <=50K' , ' >50K'])\n",
        "result = testdata[['ID (this is not a feature)', 'pred-salary']]\n",
        "result.to_csv(rootPath + 'result.csv', index=0)\n",
        "result.head()"
      ],
      "execution_count": 5,
      "outputs": [
        {
          "output_type": "execute_result",
          "data": {
            "text/html": [
              "<div>\n",
              "<style scoped>\n",
              "    .dataframe tbody tr th:only-of-type {\n",
              "        vertical-align: middle;\n",
              "    }\n",
              "\n",
              "    .dataframe tbody tr th {\n",
              "        vertical-align: top;\n",
              "    }\n",
              "\n",
              "    .dataframe thead th {\n",
              "        text-align: right;\n",
              "    }\n",
              "</style>\n",
              "<table border=\"1\" class=\"dataframe\">\n",
              "  <thead>\n",
              "    <tr style=\"text-align: right;\">\n",
              "      <th></th>\n",
              "      <th>ID (this is not a feature)</th>\n",
              "      <th>pred-salary</th>\n",
              "    </tr>\n",
              "  </thead>\n",
              "  <tbody>\n",
              "    <tr>\n",
              "      <th>0</th>\n",
              "      <td>1</td>\n",
              "      <td>&lt;=50K</td>\n",
              "    </tr>\n",
              "    <tr>\n",
              "      <th>1</th>\n",
              "      <td>2</td>\n",
              "      <td>&lt;=50K</td>\n",
              "    </tr>\n",
              "    <tr>\n",
              "      <th>2</th>\n",
              "      <td>3</td>\n",
              "      <td>&gt;50K</td>\n",
              "    </tr>\n",
              "    <tr>\n",
              "      <th>3</th>\n",
              "      <td>4</td>\n",
              "      <td>&lt;=50K</td>\n",
              "    </tr>\n",
              "    <tr>\n",
              "      <th>4</th>\n",
              "      <td>5</td>\n",
              "      <td>&lt;=50K</td>\n",
              "    </tr>\n",
              "  </tbody>\n",
              "</table>\n",
              "</div>"
            ],
            "text/plain": [
              "   ID (this is not a feature) pred-salary\n",
              "0                           1       <=50K\n",
              "1                           2       <=50K\n",
              "2                           3        >50K\n",
              "3                           4       <=50K\n",
              "4                           5       <=50K"
            ]
          },
          "metadata": {
            "tags": []
          },
          "execution_count": 5
        }
      ]
    }
  ]
}