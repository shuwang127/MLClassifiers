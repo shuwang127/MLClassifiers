{
  "nbformat": 4,
  "nbformat_minor": 0,
  "metadata": {
    "colab": {
      "name": "TestClassifier.ipynb",
      "provenance": [],
      "mount_file_id": "https://github.com/shuwang127/MLClassifiers/blob/main/TestClassifier.ipynb",
      "authorship_tag": "ABX9TyOh628se9cj4OQO9b89fZFU",
      "include_colab_link": true
    },
    "kernelspec": {
      "name": "python3",
      "display_name": "Python 3"
    }
  },
  "cells": [
    {
      "cell_type": "markdown",
      "metadata": {
        "id": "view-in-github",
        "colab_type": "text"
      },
      "source": [
        "<a href=\"https://colab.research.google.com/github/shuwang127/MLClassifiers/blob/main/TestClassifier.ipynb\" target=\"_parent\"><img src=\"https://colab.research.google.com/assets/colab-badge.svg\" alt=\"Open In Colab\"/></a>"
      ]
    },
    {
      "cell_type": "code",
      "metadata": {
        "id": "3dmU8TttXpjN"
      },
      "source": [
        "import os\n",
        "import pandas as pd\n",
        "import numpy as np\n",
        "\n",
        "_COLAB_ = 0 if (os.getenv('COLAB_GPU', 'NONE') == 'NONE') else 1\n",
        "rootPath = './drive/My Drive/Colab Notebooks/' if (_COLAB_) else './'\n",
        "\n",
        "# read data.\n",
        "traindata = pd.read_csv(rootPath + 'training_data.csv')\n",
        "testdata = pd.read_csv(rootPath + 'testing_data_labels.csv')\n",
        "# fill missing features.\n",
        "traindata = traindata.replace(' ?', np.nan)\n",
        "for index, row in traindata.iteritems():\n",
        "    traindata[index].fillna(traindata[index].mode()[0], inplace=True)\n",
        "testdata = testdata.replace(' ?', np.nan)\n",
        "for index, row in testdata.iteritems():\n",
        "    testdata[index].fillna(testdata[index].mode()[0], inplace=True)"
      ],
      "execution_count": 1,
      "outputs": []
    },
    {
      "cell_type": "code",
      "metadata": {
        "id": "anFIannGbwlg",
        "outputId": "8cdc8b23-e05d-438e-d920-5c46ba99afca",
        "colab": {
          "base_uri": "https://localhost:8080/"
        }
      },
      "source": [
        "# get labels.\n",
        "YTrain = traindata['salary'].replace([' <=50K' , ' >50K'], [0, 1])\n",
        "YTest = testdata['salary'].replace([' <=50K' , ' >50K'], [0, 1]) ##\n",
        "\n",
        "# get features.\n",
        "XTrain = traindata.drop(['ID (this is not a feature)', 'salary'], axis=1)\n",
        "XTest = testdata.drop(['ID (this is not a feature)', 'salary'], axis=1) ##\n",
        "# normalize numeric features.\n",
        "from sklearn.preprocessing import StandardScaler\n",
        "numcol = ['age', 'fnlwgt', 'education-num', 'capital-gain', 'capital-loss', 'hours-per-week']\n",
        "scaler = StandardScaler()\n",
        "XTrain[numcol] = scaler.fit_transform(XTrain[numcol])\n",
        "XTest[numcol] = scaler.transform(XTest[numcol])\n",
        "# get one-hot vectors.\n",
        "X = pd.concat([XTrain,XTest])\n",
        "X = pd.get_dummies(X)\n",
        "XTrain = X[:len(XTrain)]\n",
        "XTest = X[len(XTrain):]\n",
        "print(\"size of training data is\", XTrain.shape)\n",
        "print(\"size of testing data is\", XTest.shape)"
      ],
      "execution_count": 2,
      "outputs": [
        {
          "output_type": "stream",
          "text": [
            "size of training data is (38842, 105)\n",
            "size of testing data is (10000, 105)\n"
          ],
          "name": "stdout"
        }
      ]
    },
    {
      "cell_type": "code",
      "metadata": {
        "id": "Pz4kue9WhI1s"
      },
      "source": [
        "# evaluation.\n",
        "from sklearn.metrics import accuracy_score, confusion_matrix\n",
        "def Evaluation(YTest, YPred, method=''):\n",
        "    print('====================== ' + method + ' ======================')\n",
        "    acc = accuracy_score(YTest, YPred) * 100\n",
        "    print('Accuracy is %.3f%%.' % acc)\n",
        "    conf = confusion_matrix(YTest, YPred)\n",
        "    print(pd.DataFrame(conf, columns=['Pred-Neg','Pred-Pos'], index=['Actl-Neg', 'Actl-Pos']))\n",
        "    precision = conf[1][1] / (conf[0][1] + conf[1][1]) if (conf[0][1] + conf[1][1]) else 0\n",
        "    recall = conf[1][1] / (conf[1][0] + conf[1][1]) if (conf[1][0] + conf[1][1]) else 0\n",
        "    F1 = 2 * precision * recall / (precision + recall) if (precision + recall) else 0\n",
        "    print('Precision is %.3f.' % precision)\n",
        "    print('Recall is %.3f.' % recall)\n",
        "    print('F1 score is %.3f.' % F1)"
      ],
      "execution_count": 3,
      "outputs": []
    },
    {
      "cell_type": "code",
      "metadata": {
        "id": "59n585q2chiA",
        "outputId": "24606842-1a40-4f59-fef5-db3b8a305f48",
        "colab": {
          "base_uri": "https://localhost:8080/"
        }
      },
      "source": [
        "# Random Forest.\n",
        "from sklearn.ensemble import RandomForestClassifier\n",
        "model = RandomForestClassifier(n_estimators=1000, max_depth=None, criterion='gini', max_features=None, min_samples_split=320, min_samples_leaf=4, n_jobs=-1, verbose=1, random_state=0)\n",
        "model.fit(XTrain, YTrain)\n",
        "YPred = model.predict(XTest)\n",
        "Evaluation(YTest, YPred, 'Random Forest') ##"
      ],
      "execution_count": 4,
      "outputs": [
        {
          "output_type": "stream",
          "text": [
            "[Parallel(n_jobs=-1)]: Using backend ThreadingBackend with 2 concurrent workers.\n",
            "[Parallel(n_jobs=-1)]: Done  46 tasks      | elapsed:   10.6s\n",
            "[Parallel(n_jobs=-1)]: Done 196 tasks      | elapsed:   45.6s\n",
            "[Parallel(n_jobs=-1)]: Done 446 tasks      | elapsed:  1.8min\n",
            "[Parallel(n_jobs=-1)]: Done 796 tasks      | elapsed:  3.1min\n",
            "[Parallel(n_jobs=-1)]: Done 1000 out of 1000 | elapsed:  4.0min finished\n",
            "[Parallel(n_jobs=2)]: Using backend ThreadingBackend with 2 concurrent workers.\n",
            "[Parallel(n_jobs=2)]: Done  46 tasks      | elapsed:    0.1s\n",
            "[Parallel(n_jobs=2)]: Done 196 tasks      | elapsed:    0.2s\n",
            "[Parallel(n_jobs=2)]: Done 446 tasks      | elapsed:    0.5s\n",
            "[Parallel(n_jobs=2)]: Done 796 tasks      | elapsed:    0.9s\n"
          ],
          "name": "stderr"
        },
        {
          "output_type": "stream",
          "text": [
            "====================== Random Forest ======================\n",
            "Accuracy is 86.490%.\n",
            "          Pred-Neg  Pred-Pos\n",
            "Actl-Neg      7210       429\n",
            "Actl-Pos       922      1439\n",
            "Precision is 0.770.\n",
            "Recall is 0.609.\n",
            "F1 score is 0.681.\n"
          ],
          "name": "stdout"
        },
        {
          "output_type": "stream",
          "text": [
            "[Parallel(n_jobs=2)]: Done 1000 out of 1000 | elapsed:    1.1s finished\n"
          ],
          "name": "stderr"
        }
      ]
    },
    {
      "cell_type": "code",
      "metadata": {
        "id": "onPiPvymhafy",
        "outputId": "d06fbcef-b5c1-46dd-9c9e-a5b6df14b7e5",
        "colab": {
          "base_uri": "https://localhost:8080/",
          "height": 204
        }
      },
      "source": [
        "testdata['pred-salary'] = YPred\n",
        "testdata['pred-salary'] = testdata['pred-salary'].replace([0, 1], [' <=50K' , ' >50K'])\n",
        "result = testdata[['ID (this is not a feature)', 'pred-salary']]\n",
        "result.to_csv(rootPath + 'result.csv', index=0)\n",
        "result.head()"
      ],
      "execution_count": 5,
      "outputs": [
        {
          "output_type": "execute_result",
          "data": {
            "text/html": [
              "<div>\n",
              "<style scoped>\n",
              "    .dataframe tbody tr th:only-of-type {\n",
              "        vertical-align: middle;\n",
              "    }\n",
              "\n",
              "    .dataframe tbody tr th {\n",
              "        vertical-align: top;\n",
              "    }\n",
              "\n",
              "    .dataframe thead th {\n",
              "        text-align: right;\n",
              "    }\n",
              "</style>\n",
              "<table border=\"1\" class=\"dataframe\">\n",
              "  <thead>\n",
              "    <tr style=\"text-align: right;\">\n",
              "      <th></th>\n",
              "      <th>ID (this is not a feature)</th>\n",
              "      <th>pred-salary</th>\n",
              "    </tr>\n",
              "  </thead>\n",
              "  <tbody>\n",
              "    <tr>\n",
              "      <th>0</th>\n",
              "      <td>1</td>\n",
              "      <td>&lt;=50K</td>\n",
              "    </tr>\n",
              "    <tr>\n",
              "      <th>1</th>\n",
              "      <td>2</td>\n",
              "      <td>&lt;=50K</td>\n",
              "    </tr>\n",
              "    <tr>\n",
              "      <th>2</th>\n",
              "      <td>3</td>\n",
              "      <td>&gt;50K</td>\n",
              "    </tr>\n",
              "    <tr>\n",
              "      <th>3</th>\n",
              "      <td>4</td>\n",
              "      <td>&gt;50K</td>\n",
              "    </tr>\n",
              "    <tr>\n",
              "      <th>4</th>\n",
              "      <td>5</td>\n",
              "      <td>&lt;=50K</td>\n",
              "    </tr>\n",
              "  </tbody>\n",
              "</table>\n",
              "</div>"
            ],
            "text/plain": [
              "   ID (this is not a feature) pred-salary\n",
              "0                           1       <=50K\n",
              "1                           2       <=50K\n",
              "2                           3        >50K\n",
              "3                           4        >50K\n",
              "4                           5       <=50K"
            ]
          },
          "metadata": {
            "tags": []
          },
          "execution_count": 5
        }
      ]
    }
  ]
}