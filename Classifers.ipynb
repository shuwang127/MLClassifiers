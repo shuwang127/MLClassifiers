{
  "nbformat": 4,
  "nbformat_minor": 0,
  "metadata": {
    "colab": {
      "name": "Classifers.ipynb",
      "provenance": [],
      "mount_file_id": "1O5lHYfTAUSSz8YWCUE-UyK2nVwMiamlO",
      "authorship_tag": "ABX9TyMb8Y/5vOmQQmbUuN8vFxoR",
      "include_colab_link": true
    },
    "kernelspec": {
      "name": "python3",
      "display_name": "Python 3"
    }
  },
  "cells": [
    {
      "cell_type": "markdown",
      "metadata": {
        "id": "view-in-github",
        "colab_type": "text"
      },
      "source": [
        "<a href=\"https://colab.research.google.com/github/shuwang127/636Project/blob/main/Classifers.ipynb\" target=\"_parent\"><img src=\"https://colab.research.google.com/assets/colab-badge.svg\" alt=\"Open In Colab\"/></a>"
      ]
    },
    {
      "cell_type": "code",
      "metadata": {
        "id": "LT_vbkEqTVuX"
      },
      "source": [
        "import os\n",
        "import pandas as pd\n",
        "import numpy as np\n",
        "\n",
        "_COLAB_ = 0 if (os.getenv('COLAB_GPU', 'NONE') == 'NONE') else 1\n",
        "rootPath = './drive/My Drive/Colab Notebooks/' if (_COLAB_) else './'"
      ],
      "execution_count": 1,
      "outputs": []
    },
    {
      "cell_type": "code",
      "metadata": {
        "id": "Du4VmQC4GZTS"
      },
      "source": [
        "# read data.\n",
        "data = pd.read_csv(rootPath + 'training_data.csv')\n",
        "# data.head(3)"
      ],
      "execution_count": 2,
      "outputs": []
    },
    {
      "cell_type": "code",
      "metadata": {
        "id": "oxh23xfBXlWz"
      },
      "source": [
        "# fill missing features.\n",
        "data = data.replace(' ?', np.nan)\n",
        "for index, row in data.iteritems():\n",
        "    data[index].fillna(data[index].mode()[0], inplace=True)\n",
        "# data.head(3)"
      ],
      "execution_count": 3,
      "outputs": []
    },
    {
      "cell_type": "code",
      "metadata": {
        "id": "skJInAo0j8C2"
      },
      "source": [
        "# get labels.\n",
        "Y = data['salary'].replace([' <=50K' , ' >50K'] , [0, 1])\n",
        "# Y.head(3)"
      ],
      "execution_count": 4,
      "outputs": []
    },
    {
      "cell_type": "code",
      "metadata": {
        "id": "YpcdZvrgdYOX"
      },
      "source": [
        "# get features.\n",
        "X = data.drop(['ID (this is not a feature)', 'salary'], axis=1)\n",
        "# normalize numeric features.\n",
        "from sklearn.preprocessing import StandardScaler\n",
        "numcol = ['age', 'fnlwgt', 'education-num', 'capital-gain', 'capital-loss', 'hours-per-week']\n",
        "scaler = StandardScaler()\n",
        "X[numcol] = scaler.fit_transform(X[numcol])\n",
        "# get one-hot vectors.\n",
        "X = pd.get_dummies(X)\n",
        "# X.head(3)"
      ],
      "execution_count": 5,
      "outputs": []
    },
    {
      "cell_type": "code",
      "metadata": {
        "id": "aBgPb2XMlbFX",
        "outputId": "90af8915-12e6-4022-f432-fea046d11bb3",
        "colab": {
          "base_uri": "https://localhost:8080/"
        }
      },
      "source": [
        "# separate training data and validation data.\n",
        "from sklearn.model_selection import train_test_split\n",
        "XTrain, XTest, YTrain, YTest = train_test_split(X, Y, test_size=0.2)\n",
        "print(\"size of training data is\", XTrain.shape)\n",
        "print(\"size of testing data is\", XTest.shape)"
      ],
      "execution_count": 6,
      "outputs": [
        {
          "output_type": "stream",
          "text": [
            "size of training data is (31073, 105)\n",
            "size of testing data is (7769, 105)\n"
          ],
          "name": "stdout"
        }
      ]
    },
    {
      "cell_type": "code",
      "metadata": {
        "id": "XXSwJIS6stRD"
      },
      "source": [
        "# evaluation.\n",
        "from sklearn.metrics import accuracy_score, confusion_matrix\n",
        "def Evaluation(YTest, YPred, method=''):\n",
        "    print('====================== ' + method + ' ======================')\n",
        "    acc = accuracy_score(YTest, YPred) * 100\n",
        "    print('Accuracy is %.3f%%.' % acc)\n",
        "    conf = confusion_matrix(YTest, YPred)\n",
        "    print(pd.DataFrame(conf, columns=['Pred-Neg','Pred-Pos'], index=['Actl-Neg', 'Actl-Pos']))\n",
        "    precision = conf[1][1] / (conf[0][1] + conf[1][1]) if (conf[0][1] + conf[1][1]) else 0\n",
        "    recall = conf[1][1] / (conf[1][0] + conf[1][1]) if (conf[1][0] + conf[1][1]) else 0\n",
        "    F1 = 2 * precision * recall / (precision + recall) if (precision + recall) else 0\n",
        "    print('Precision is %.3f.' % precision)\n",
        "    print('Recall is %.3f.' % recall)\n",
        "    print('F1 score is %.3f.' % F1)"
      ],
      "execution_count": 7,
      "outputs": []
    },
    {
      "cell_type": "code",
      "metadata": {
        "id": "a9ik8movp1BA",
        "outputId": "5b9823a7-4431-4ea6-f17a-3d82bbacb024",
        "colab": {
          "base_uri": "https://localhost:8080/"
        }
      },
      "source": [
        "# NaiveBayes.\n",
        "from sklearn.naive_bayes import GaussianNB\n",
        "model = GaussianNB()\n",
        "model.fit(XTrain, YTrain)\n",
        "YPred = model.predict(XTest)\n",
        "Evaluation(YTest, YPred, 'Naive Bayes')"
      ],
      "execution_count": 8,
      "outputs": [
        {
          "output_type": "stream",
          "text": [
            "====================== Naive Bayes ======================\n",
            "Accuracy is 57.665%.\n",
            "          Pred-Neg  Pred-Pos\n",
            "Actl-Neg      2746      3177\n",
            "Actl-Pos       112      1734\n",
            "Precision is 0.353.\n",
            "Recall is 0.939.\n",
            "F1 score is 0.513.\n"
          ],
          "name": "stdout"
        }
      ]
    },
    {
      "cell_type": "code",
      "metadata": {
        "id": "G3BekO2Wzd4R",
        "outputId": "67afc877-e279-4914-eb82-caf3c031f1bd",
        "colab": {
          "base_uri": "https://localhost:8080/"
        }
      },
      "source": [
        "# Least Square Regression.\n",
        "from sklearn.linear_model import LinearRegression\n",
        "model = LinearRegression()\n",
        "model.fit(XTrain, YTrain)\n",
        "YPred = model.predict(XTest)\n",
        "YPred = (YPred > 0.5)\n",
        "Evaluation(YTest, YPred, 'Least Square Regression')"
      ],
      "execution_count": 9,
      "outputs": [
        {
          "output_type": "stream",
          "text": [
            "====================== Least Square Regression ======================\n",
            "Accuracy is 83.898%.\n",
            "          Pred-Neg  Pred-Pos\n",
            "Actl-Neg      5604       319\n",
            "Actl-Pos       932       914\n",
            "Precision is 0.741.\n",
            "Recall is 0.495.\n",
            "F1 score is 0.594.\n"
          ],
          "name": "stdout"
        }
      ]
    },
    {
      "cell_type": "code",
      "metadata": {
        "id": "bvDRLc3H1VFI",
        "outputId": "1e03bca0-1ba8-42fc-dbad-684254704635",
        "colab": {
          "base_uri": "https://localhost:8080/"
        }
      },
      "source": [
        "# Ridge Regression.\n",
        "from sklearn.linear_model import Ridge\n",
        "model = Ridge(alpha=1e-2, normalize=True)\n",
        "model.fit(XTrain, YTrain)\n",
        "YPred = model.predict(XTest)\n",
        "YPred = (YPred > 0.5)\n",
        "Evaluation(YTest, YPred, 'Ridge Regression')"
      ],
      "execution_count": 10,
      "outputs": [
        {
          "output_type": "stream",
          "text": [
            "====================== Ridge Regression ======================\n",
            "Accuracy is 83.923%.\n",
            "          Pred-Neg  Pred-Pos\n",
            "Actl-Neg      5607       316\n",
            "Actl-Pos       933       913\n",
            "Precision is 0.743.\n",
            "Recall is 0.495.\n",
            "F1 score is 0.594.\n"
          ],
          "name": "stdout"
        }
      ]
    },
    {
      "cell_type": "code",
      "metadata": {
        "id": "5sJbcAFQ5Kxn",
        "outputId": "f596191a-85db-454e-fd7f-93efc2b9ce85",
        "colab": {
          "base_uri": "https://localhost:8080/"
        }
      },
      "source": [
        "# Lasso Regression.\n",
        "from sklearn.linear_model import Lasso\n",
        "from sklearn.model_selection import GridSearchCV\n",
        "model = Lasso(alpha=1e-6)\n",
        "model.fit(XTrain, YTrain)\n",
        "YPred = model.predict(XTest)\n",
        "YPred = (YPred > 0.5)\n",
        "Evaluation(YTest, YPred, 'Lasso Regression')"
      ],
      "execution_count": 11,
      "outputs": [
        {
          "output_type": "stream",
          "text": [
            "====================== Lasso Regression ======================\n",
            "Accuracy is 83.910%.\n",
            "          Pred-Neg  Pred-Pos\n",
            "Actl-Neg      5605       318\n",
            "Actl-Pos       932       914\n",
            "Precision is 0.742.\n",
            "Recall is 0.495.\n",
            "F1 score is 0.594.\n"
          ],
          "name": "stdout"
        },
        {
          "output_type": "stream",
          "text": [
            "/usr/local/lib/python3.6/dist-packages/sklearn/linear_model/_coordinate_descent.py:476: ConvergenceWarning: Objective did not converge. You might want to increase the number of iterations. Duality gap: 1533.8947350060726, tolerance: 0.567938853667163\n",
            "  positive)\n"
          ],
          "name": "stderr"
        }
      ]
    },
    {
      "cell_type": "code",
      "metadata": {
        "id": "iZGNI9ey7Fu6",
        "outputId": "4c050b58-9661-445f-cfe5-9fbf76b68ace",
        "colab": {
          "base_uri": "https://localhost:8080/"
        }
      },
      "source": [
        "# Logistic Regression.\n",
        "from sklearn.linear_model import LogisticRegression\n",
        "model = LogisticRegression()\n",
        "model.fit(XTrain, YTrain)\n",
        "YPred = model.predict(XTest)\n",
        "Evaluation(YTest, YPred, 'Logistic Regression')"
      ],
      "execution_count": 12,
      "outputs": [
        {
          "output_type": "stream",
          "text": [
            "====================== Logistic Regression ======================\n",
            "Accuracy is 85.223%.\n",
            "          Pred-Neg  Pred-Pos\n",
            "Actl-Neg      5529       394\n",
            "Actl-Pos       754      1092\n",
            "Precision is 0.735.\n",
            "Recall is 0.592.\n",
            "F1 score is 0.655.\n"
          ],
          "name": "stdout"
        },
        {
          "output_type": "stream",
          "text": [
            "/usr/local/lib/python3.6/dist-packages/sklearn/linear_model/_logistic.py:940: ConvergenceWarning: lbfgs failed to converge (status=1):\n",
            "STOP: TOTAL NO. of ITERATIONS REACHED LIMIT.\n",
            "\n",
            "Increase the number of iterations (max_iter) or scale the data as shown in:\n",
            "    https://scikit-learn.org/stable/modules/preprocessing.html\n",
            "Please also refer to the documentation for alternative solver options:\n",
            "    https://scikit-learn.org/stable/modules/linear_model.html#logistic-regression\n",
            "  extra_warning_msg=_LOGISTIC_SOLVER_CONVERGENCE_MSG)\n"
          ],
          "name": "stderr"
        }
      ]
    },
    {
      "cell_type": "code",
      "metadata": {
        "id": "ha2W5Ayt72Lr",
        "outputId": "dd194f0b-182d-4442-8268-eda4868bb62d",
        "colab": {
          "base_uri": "https://localhost:8080/"
        }
      },
      "source": [
        "# K-means.\n",
        "from sklearn.cluster import KMeans\n",
        "model = KMeans(n_clusters=2, random_state=0)\n",
        "model.fit(X)\n",
        "YPred = model.labels_\n",
        "import scipy.stats as stats\n",
        "if (stats.pearsonr(Y, YPred)[0] < 0):\n",
        "    YPred = (YPred == 0)\n",
        "Evaluation(Y, YPred, 'K-means')"
      ],
      "execution_count": 13,
      "outputs": [
        {
          "output_type": "stream",
          "text": [
            "====================== K-means ======================\n",
            "Accuracy is 66.951%.\n",
            "          Pred-Neg  Pred-Pos\n",
            "Actl-Neg     17521     11995\n",
            "Actl-Pos       842      8484\n",
            "Precision is 0.414.\n",
            "Recall is 0.910.\n",
            "F1 score is 0.569.\n"
          ],
          "name": "stdout"
        }
      ]
    },
    {
      "cell_type": "code",
      "metadata": {
        "id": "kzJhCQBi8dt1",
        "outputId": "2360f768-6130-4a61-d0a5-e95821e49ab6",
        "colab": {
          "base_uri": "https://localhost:8080/"
        }
      },
      "source": [
        "# Decision Tree.\n",
        "from sklearn.tree import DecisionTreeClassifier\n",
        "model = DecisionTreeClassifier(criterion=\"gini\", splitter=\"best\", max_features=None, min_samples_split=300, min_samples_leaf=1, random_state=0)\n",
        "model.fit(XTrain, YTrain)\n",
        "YPred = model.predict(XTest)\n",
        "Evaluation(YTest, YPred, 'Decision Tree')"
      ],
      "execution_count": 14,
      "outputs": [
        {
          "output_type": "stream",
          "text": [
            "====================== Decision Tree ======================\n",
            "Accuracy is 85.622%.\n",
            "          Pred-Neg  Pred-Pos\n",
            "Actl-Neg      5536       387\n",
            "Actl-Pos       730      1116\n",
            "Precision is 0.743.\n",
            "Recall is 0.605.\n",
            "F1 score is 0.666.\n"
          ],
          "name": "stdout"
        }
      ]
    },
    {
      "cell_type": "code",
      "metadata": {
        "id": "3mxFQ1mz93O_",
        "outputId": "da1cdc9c-7a37-4a77-e82a-5e7cda53b14f",
        "colab": {
          "base_uri": "https://localhost:8080/"
        }
      },
      "source": [
        "# Random Forest.\n",
        "from sklearn.ensemble import RandomForestClassifier\n",
        "model = RandomForestClassifier(n_estimators=100, max_depth=100, criterion='gini', max_features = 'sqrt', n_jobs=-1, verbose=1, random_state=0)\n",
        "model.fit(XTrain, YTrain)\n",
        "YPred = model.predict(XTest)\n",
        "Evaluation(YTest, YPred, 'Random Forest')"
      ],
      "execution_count": 15,
      "outputs": [
        {
          "output_type": "stream",
          "text": [
            "[Parallel(n_jobs=-1)]: Using backend ThreadingBackend with 2 concurrent workers.\n",
            "[Parallel(n_jobs=-1)]: Done  46 tasks      | elapsed:    2.2s\n",
            "[Parallel(n_jobs=-1)]: Done 100 out of 100 | elapsed:    4.8s finished\n",
            "[Parallel(n_jobs=2)]: Using backend ThreadingBackend with 2 concurrent workers.\n",
            "[Parallel(n_jobs=2)]: Done  46 tasks      | elapsed:    0.1s\n"
          ],
          "name": "stderr"
        },
        {
          "output_type": "stream",
          "text": [
            "====================== Random Forest ======================\n",
            "Accuracy is 85.236%.\n",
            "          Pred-Neg  Pred-Pos\n",
            "Actl-Neg      5481       442\n",
            "Actl-Pos       705      1141\n",
            "Precision is 0.721.\n",
            "Recall is 0.618.\n",
            "F1 score is 0.666.\n"
          ],
          "name": "stdout"
        },
        {
          "output_type": "stream",
          "text": [
            "[Parallel(n_jobs=2)]: Done 100 out of 100 | elapsed:    0.2s finished\n"
          ],
          "name": "stderr"
        }
      ]
    },
    {
      "cell_type": "code",
      "metadata": {
        "id": "a8rLe-rE94Cw",
        "outputId": "820781ea-b09c-4dcf-fc04-6d7acf2de1e1",
        "colab": {
          "base_uri": "https://localhost:8080/"
        }
      },
      "source": [
        "# Support Vector Machine.\n",
        "from sklearn.svm import SVC\n",
        "model = SVC(kernel='linear', C=1)\n",
        "model.fit(XTrain, YTrain)\n",
        "YPred = model.predict(XTest)\n",
        "Evaluation(YTest, YPred, 'Support Vector Machine')"
      ],
      "execution_count": 16,
      "outputs": [
        {
          "output_type": "stream",
          "text": [
            "====================== Support Vector Machine ======================\n",
            "Accuracy is 84.979%.\n",
            "          Pred-Neg  Pred-Pos\n",
            "Actl-Neg      5576       347\n",
            "Actl-Pos       820      1026\n",
            "Precision is 0.747.\n",
            "Recall is 0.556.\n",
            "F1 score is 0.637.\n"
          ],
          "name": "stdout"
        }
      ]
    },
    {
      "cell_type": "code",
      "metadata": {
        "id": "ko5ENh0T94de",
        "outputId": "020feb10-ea23-4793-a1b7-7d09744ce442",
        "colab": {
          "base_uri": "https://localhost:8080/"
        }
      },
      "source": [
        "# Neural Network.\n",
        "from sklearn.neural_network import MLPClassifier\n",
        "model = MLPClassifier(hidden_layer_sizes=(32,8), activation='relu', solver='lbfgs', max_iter=100)\n",
        "model.fit(XTrain, YTrain)\n",
        "YPred = model.predict(XTest)\n",
        "Evaluation(YTest, YPred, 'Neural Network')"
      ],
      "execution_count": 17,
      "outputs": [
        {
          "output_type": "stream",
          "text": [
            "====================== Neural Network ======================\n",
            "Accuracy is 85.378%.\n",
            "          Pred-Neg  Pred-Pos\n",
            "Actl-Neg      5459       464\n",
            "Actl-Pos       672      1174\n",
            "Precision is 0.717.\n",
            "Recall is 0.636.\n",
            "F1 score is 0.674.\n"
          ],
          "name": "stdout"
        },
        {
          "output_type": "stream",
          "text": [
            "/usr/local/lib/python3.6/dist-packages/sklearn/neural_network/_multilayer_perceptron.py:470: ConvergenceWarning: lbfgs failed to converge (status=1):\n",
            "STOP: TOTAL NO. of ITERATIONS REACHED LIMIT.\n",
            "\n",
            "Increase the number of iterations (max_iter) or scale the data as shown in:\n",
            "    https://scikit-learn.org/stable/modules/preprocessing.html\n",
            "  self.n_iter_ = _check_optimize_result(\"lbfgs\", opt_res, self.max_iter)\n"
          ],
          "name": "stderr"
        }
      ]
    }
  ]
}